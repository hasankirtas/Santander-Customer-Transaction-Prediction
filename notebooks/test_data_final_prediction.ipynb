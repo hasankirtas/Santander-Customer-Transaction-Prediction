{
 "cells": [
  {
   "cell_type": "code",
   "execution_count": null,
   "id": "6e0a1ef9-b057-42e6-81bb-1db1d0486971",
   "metadata": {},
   "outputs": [],
   "source": [
    "import pandas as pd\n",
    "import numpy as np\n",
    "import joblib\n",
    "\n",
    "# File Paths\n",
    "model_path = '../models/voting_model.pkl'\n",
    "test_data_path = '../data/raw/test.csv'\n",
    "sample_submission_path = '../data/raw/sample_submission.csv'\n",
    "scaler_rf_path = '../models/scaler_rf.pkl'\n",
    "scaler_xgb_path = '../models/scaler_xgb.pkl'\n",
    "\n",
    "# Load Test Data\n",
    "test_data = pd.read_csv(test_data_path).copy()\n",
    "X_test = test_data.drop(columns=['ID_code'])\n",
    "\n",
    "# Load Saved Scalers\n",
    "scaler_rf = joblib.load(scaler_rf_path)\n",
    "scaler_xgb = joblib.load(scaler_xgb_path)\n",
    "\n",
    "# Define Important Features for Random Forest and XGBoost\n",
    "rf_features = [\n",
    "    \"var_81\", \"var_146\", \"var_12\", \"var_76\", \"var_174\", \"var_34\", \"var_21\", \"var_165\",\n",
    "    \"var_109\", \"var_44\", \"var_166\", \"var_198\", \"var_192\", \"var_148\", \"var_33\", \"var_80\",\n",
    "    \"var_169\", \"var_115\", \"var_92\", \"var_149\", \"var_154\", \"var_121\", \"var_107\", \"var_127\",\n",
    "    \"var_122\", \"var_172\", \"var_177\", \"var_36\", \"var_108\", \"var_75\", \"var_188\", \"var_123\",\n",
    "    \"var_87\", \"var_197\", \"var_86\", \"var_93\", \"var_31\"\n",
    "]\n",
    "xgb_features = [\n",
    "    \"var_6\", \"var_53\", \"var_26\", \"var_110\", \"var_99\", \"var_190\", \"var_133\", \"var_22\",\n",
    "    \"var_179\", \"var_2\", \"var_94\", \"var_40\", \"var_78\", \"var_173\", \"var_184\", \"var_170\",\n",
    "    \"var_0\", \"var_1\", \"var_191\", \"var_67\", \"var_118\", \"var_147\", \"var_18\", \"var_164\",\n",
    "    \"var_89\", \"var_35\", \"var_48\", \"var_95\", \"var_199\", \"var_155\", \"var_32\", \"var_5\",\n",
    "    \"var_91\", \"var_90\", \"var_71\", \"var_157\", \"var_162\", \"var_130\", \"var_135\", \"var_52\"\n",
    "]\n",
    "\n",
    "X_rf_test = X_test[rf_features]\n",
    "X_xgb_test = X_test[xgb_features]\n",
    "\n",
    "# Scale Test Data (using saved scalers)\n",
    "X_rf_test_scaled = scaler_rf.transform(X_rf_test)\n",
    "X_xgb_test_scaled = scaler_xgb.transform(X_xgb_test)\n",
    "\n",
    "# Load Voting Model\n",
    "voting_model = joblib.load(model_path)\n",
    "\n",
    "# Make Predictions with Model\n",
    "proba_predictions = voting_model.predict_proba(np.hstack((X_rf_test_scaled, X_xgb_test_scaled)))[:, 1]  # Probability of class 1\n",
    "\n",
    "# Save Submission File\n",
    "submission = pd.read_csv(sample_submission_path).copy()\n",
    "submission['target'] = proba_predictions\n",
    "submission.to_csv('../submission/voting_classifier_sample_submission.csv', index=False)\n",
    "\n",
    "print(\"Submission file saved: '../submission/voting_classifier_sample_submission.csv'\")"
   ]
  }
 ],
 "metadata": {
  "kernelspec": {
   "display_name": "Python [conda env:base] *",
   "language": "python",
   "name": "conda-base-py"
  },
  "language_info": {
   "codemirror_mode": {
    "name": "ipython",
    "version": 3
   },
   "file_extension": ".py",
   "mimetype": "text/x-python",
   "name": "python",
   "nbconvert_exporter": "python",
   "pygments_lexer": "ipython3",
   "version": "3.12.7"
  }
 },
 "nbformat": 4,
 "nbformat_minor": 5
}
